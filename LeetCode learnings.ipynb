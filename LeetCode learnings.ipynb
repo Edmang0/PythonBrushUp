{
 "cells": [
  {
   "cell_type": "markdown",
   "id": "cf509725",
   "metadata": {},
   "source": [
    "# Two Sum\n",
    "Given an array of integers nums and an integer target, return indices of the two numbers such that they add up to target.\n",
    "\n",
    "You may assume that each input would have exactly one solution, and you may not use the same element twice.\n",
    "\n",
    "You can return the answer in any order.\n",
    "Example 1:\n",
    "```python\n",
    "Input: nums = [2,7,11,15], target = 9\n",
    "Output: [0,1]\n",
    "Explanation: Because nums[0] + nums[1] == 9, we return [0, 1].\n",
    "```\n",
    "\n",
    "### Algorithm\n",
    "\n",
    "The brute force approach is simple. Loop through each element $x$ and find if there is another value that equals to $target−x$."
   ]
  },
  {
   "cell_type": "code",
   "execution_count": 21,
   "id": "6568bb51",
   "metadata": {},
   "outputs": [
    {
     "name": "stdout",
     "output_type": "stream",
     "text": [
      "[0, 1]\n"
     ]
    }
   ],
   "source": [
    "class Solution:\n",
    "    def twoSum(self, nums: list[int], target: int) -> list[int]:  #note the syntax for specifying types and \n",
    "        for i in range(len(nums)):                      \n",
    "            for j in range(i+1, len(nums)):\n",
    "                if nums[i] == target - nums[j]:\n",
    "                    return [i,j]\n",
    "        return\n",
    "                    \n",
    "sol = Solution()\n",
    "nums, target = [2,7,11,15], 9\n",
    "result = sol.twoSum(nums, target)\n",
    "print(result)"
   ]
  },
  {
   "cell_type": "markdown",
   "id": "34ced9a5",
   "metadata": {},
   "source": [
    "##### Complexity analysis: \n",
    "**Time complexity:** $O(n^2)$\\\n",
    "For each element, we try to find *its* complement by looping through the rest of the array which takes $O(n)$ time. Therefore, the time complexity is $O(n^2)$.\n",
    "\n",
    "**Space complexity:**  $O(1)$ \\\n",
    "The space required does not depend on the size of the input array, so only constant space is used."
   ]
  },
  {
   "cell_type": "markdown",
   "id": "f77feec4",
   "metadata": {},
   "source": [
    "### Palindrome"
   ]
  },
  {
   "cell_type": "code",
   "execution_count": 31,
   "id": "4e6ea6c9",
   "metadata": {},
   "outputs": [
    {
     "name": "stdout",
     "output_type": "stream",
     "text": [
      "True False\n"
     ]
    }
   ],
   "source": [
    "class PSolution:\n",
    "    def isPalindrome(self, num: int):       #N.B. the num: int syntax\n",
    "        return str(num) == str(num)[::-1]   #N.B. [::-1]\n",
    "\n",
    "sol2 = PSolution()\n",
    "num, num2 = 123456654321, 1235421\n",
    "\n",
    "result, result2 = sol2.isPalindrome(num), sol2.isPalindrome(num2) #N.B.\n",
    "print(result, result2)"
   ]
  },
  {
   "cell_type": "markdown",
   "id": "af4f9bdc",
   "metadata": {},
   "source": [
    "### Prefix Problem\n",
    "Write a function to find the longest common prefix string amongst an array of strings.\n",
    "\n",
    "If there is no common prefix, return an empty string \"\".\n",
    "\n",
    "Example 1:\n",
    "```python\n",
    "Input: strs = [\"flower\",\"flow\",\"flight\"]\n",
    "Output: \"fl\"\n",
    "Example 2:\n",
    "\n",
    "Input: strs = [\"dog\",\"racecar\",\"car\"]\n",
    "Output: \"\"\n",
    "```\n",
    "Explanation: There is no common prefix among the input strings."
   ]
  },
  {
   "cell_type": "code",
   "execution_count": 2,
   "id": "2a0dcef9",
   "metadata": {},
   "outputs": [],
   "source": [
    "class Solution:\n",
    "    def longestCommonPrefix(self, strs: list[str]) -> str:\n",
    "        prefix = strs[0]    \n",
    "        for word in strs[1:]:                  \n",
    "            while not word.startswith(prefix):\n",
    "                prefix = prefix[:-1]\n",
    "                if prefix == \"\":\n",
    "                    return \"\"\n",
    "        return prefix"
   ]
  },
  {
   "cell_type": "markdown",
   "id": "1fa8aa83",
   "metadata": {},
   "source": [
    "### Roman Integer problem\n",
    "\n",
    "Roman numerals are represented by seven different symbols: ```I, V, X, L, C, D and M.```\n",
    "\n",
    "|Symbol   |    Value   |\n",
    "|---------|------------|\n",
    "|I        |     1      |\n",
    "|V        |     5      |\n",
    "|X        |     10     |\n",
    "|L        |     50     |\n",
    "|C        |     100    |\n",
    "|D        |     500    |\n",
    "|M        |     1000   |\n",
    "\n",
    "\n",
    "For example, 2 is written as II in Roman numeral, just two ones added together. 12 is written as XII, which is simply X + II. The number 27 is written as XXVII, which is XX + V + II.\n",
    "\n",
    "Roman numerals are usually written largest to smallest from left to right. However, the numeral for four is not IIII. Instead, the number four is written as IV. Because the one is before the five we subtract it making four. The same principle applies to the number nine, which is written as IX. There are six instances where subtraction is used:\n",
    "\n",
    "I can be placed before V (5) and X (10) to make 4 and 9. \n",
    "X can be placed before L (50) and C (100) to make 40 and 90. \n",
    "C can be placed before D (500) and M (1000) to make 400 and 900.\n",
    "Given a roman numeral, convert it to an integer."
   ]
  },
  {
   "cell_type": "code",
   "execution_count": 3,
   "id": "4cfcfa24",
   "metadata": {},
   "outputs": [],
   "source": [
    "class Solution:\n",
    "    def romanToInt(self, s: str) -> int:\n",
    "        roman = {\"I\": 1, \"V\": 5, \"X\": 10, \"L\":50, \"C\":100, \"D\":500, \"M\":1000}\n",
    "        value = 0\n",
    "        for i in range(len(s)):\n",
    "            if i < len(s)-1 and roman[s[i]] < roman[s[i+1]]:\n",
    "                value -= roman[s[i]]\n",
    "            else:\n",
    "                value += roman[s[i]]\n",
    "        return value"
   ]
  }
 ],
 "metadata": {
  "kernelspec": {
   "display_name": "base",
   "language": "python",
   "name": "python3"
  },
  "language_info": {
   "codemirror_mode": {
    "name": "ipython",
    "version": 3
   },
   "file_extension": ".py",
   "mimetype": "text/x-python",
   "name": "python",
   "nbconvert_exporter": "python",
   "pygments_lexer": "ipython3",
   "version": "3.12.7"
  }
 },
 "nbformat": 4,
 "nbformat_minor": 5
}
